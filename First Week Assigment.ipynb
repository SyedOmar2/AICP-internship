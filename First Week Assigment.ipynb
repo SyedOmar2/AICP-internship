{
 "cells": [
  {
   "cell_type": "code",
   "execution_count": 1,
   "id": "29fbb46c",
   "metadata": {},
   "outputs": [],
   "source": [
    "import numpy as np"
   ]
  },
  {
   "cell_type": "code",
   "execution_count": 10,
   "id": "9239f6f5",
   "metadata": {},
   "outputs": [],
   "source": [
    "# Write a NumPy program to create an array of all even integers from 30 to 70.\n",
    "\n",
    "even_num = np.arange(30,70,2)"
   ]
  },
  {
   "cell_type": "code",
   "execution_count": 11,
   "id": "47ac5206",
   "metadata": {},
   "outputs": [
    {
     "name": "stdout",
     "output_type": "stream",
     "text": [
      "[30 32 34 36 38 40 42 44 46 48 50 52 54 56 58 60 62 64 66 68]\n"
     ]
    }
   ],
   "source": [
    "print(even_num)"
   ]
  },
  {
   "cell_type": "code",
   "execution_count": 16,
   "id": "eea8ab5f",
   "metadata": {},
   "outputs": [
    {
     "name": "stdout",
     "output_type": "stream",
     "text": [
      "[ 0.37941536 -1.29695977 -0.04410337  0.81793891 -0.07269532  0.80073981\n",
      " -0.88168362 -1.37519335 -0.46309102 -0.22246267  1.11160305  0.38778897\n",
      " -1.51460926 -0.08224021 -0.44187611]\n"
     ]
    }
   ],
   "source": [
    "# Write a NumPy program to generate an array of 15 random numbers from a standard normal distribution.\n",
    "\n",
    "random_numbers = np.random.randn(15)\n",
    "\n",
    "print(random_numbers)"
   ]
  },
  {
   "cell_type": "code",
   "execution_count": 27,
   "id": "91c3ed57",
   "metadata": {},
   "outputs": [
    {
     "name": "stdout",
     "output_type": "stream",
     "text": [
      "[[-10  20 -10]\n",
      " [-10  20 -10]]\n"
     ]
    }
   ],
   "source": [
    "# How to compute the cross-product of two matrices in NumPy?\n",
    "\n",
    "matrix_one = np.array([[1,2,3],[4,5,6]])\n",
    "matrix_two = np.array([[11,12,13],[14,15,16]])\n",
    "\n",
    "cross_product = np.cross(matrix_one , matrix_two)\n",
    "print(cross_product)"
   ]
  },
  {
   "cell_type": "code",
   "execution_count": 33,
   "id": "fa0481e7",
   "metadata": {},
   "outputs": [
    {
     "name": "stdout",
     "output_type": "stream",
     "text": [
      "-9.51619735392994e-16\n"
     ]
    }
   ],
   "source": [
    "# How to compute the determinant of an array using NumPy?\n",
    "matrix_one = np.array([[1,2,3],[4,5,6],[7,8,9]])\n",
    "\n",
    "determinant = np.linalg.det(matrix_one)\n",
    "print(determinant)"
   ]
  },
  {
   "cell_type": "code",
   "execution_count": 36,
   "id": "54694331",
   "metadata": {},
   "outputs": [
    {
     "data": {
      "text/plain": [
       "array([[[97,  8, 20],\n",
       "        [62, 57, 58],\n",
       "        [24, 11, 79]],\n",
       "\n",
       "       [[92, 69, 52],\n",
       "        [74, 91, 44],\n",
       "        [66, 37, 27]],\n",
       "\n",
       "       [[42, 64,  9],\n",
       "        [95, 36, 35],\n",
       "        [53, 20, 72]]])"
      ]
     },
     "execution_count": 36,
     "metadata": {},
     "output_type": "execute_result"
    }
   ],
   "source": [
    "# How to create a 3x3x3 array with random values using NumPy?\n",
    "\n",
    "array_333 = np.random.randint(1,100,size=(3,3,3))\n",
    "array_333"
   ]
  },
  {
   "cell_type": "code",
   "execution_count": 37,
   "id": "992b92b4",
   "metadata": {},
   "outputs": [
    {
     "name": "stdout",
     "output_type": "stream",
     "text": [
      "[[513 459 559 435 136]\n",
      " [560 597 236  42 567]\n",
      " [ 30  93 278 538 179]\n",
      " [ 64  83 396 129 160]\n",
      " [167 353 223 289 190]]\n",
      "Max value:  597\n",
      "Min value:  30\n"
     ]
    }
   ],
   "source": [
    "# How to create a 5x5 array with random values and find the minimum and maximum values using NumPy?\n",
    "\n",
    "array_55 = np.random.randint(1,600,size=(5,5))\n",
    "print(array_55)\n",
    "print(\"Max value: \",array_55.max())\n",
    "print(\"Min value: \",array_55.min())"
   ]
  },
  {
   "cell_type": "code",
   "execution_count": 40,
   "id": "e841fef7",
   "metadata": {},
   "outputs": [
    {
     "name": "stdout",
     "output_type": "stream",
     "text": [
      "Original Array:\n",
      "[[ 1  2  3  4]\n",
      " [ 5  6  7  8]\n",
      " [ 9 10 11 12]]\n",
      "\n",
      "Mean along the second axis:\n",
      "[5. 6. 7. 8.]\n",
      "\n",
      "Standard Deviation along the second axis:\n",
      "[3.26598632 3.26598632 3.26598632 3.26598632]\n",
      "\n",
      "Variance along the second axis:\n",
      "[1.25 1.25 1.25]\n"
     ]
    }
   ],
   "source": [
    "# How to compute the mean, standard deviation, and variance of a given array along the second axis in NumPy?\n",
    "\n",
    "# Create a sample 2D array (3x4)\n",
    "sample_array = np.array([[1, 2, 3, 4],\n",
    "                         [5, 6, 7, 8],\n",
    "                         [9, 10, 11, 12]])\n",
    "\n",
    "# mean along the second axis (axis=1)\n",
    "mean_values = np.mean(sample_array, axis=1)\n",
    "\n",
    "# standard deviation along the second axis (axis=1)\n",
    "std_deviation_values = np.std(sample_array, axis=1)\n",
    "\n",
    "# # variance along the second axis (axis=1)\n",
    "variance_values = np.var(sample_array, axis=1)\n",
    "\n",
    "print(\"Original Array:\")\n",
    "print(sample_array)\n",
    "\n",
    "print(\"\\nMean along the second axis:\")\n",
    "print(mean_values)\n",
    "\n",
    "\n",
    "print(\"\\nStandard Deviation along the second axis:\")\n",
    "print(std_deviation_values)\n",
    "\n",
    "print(\"\\nVariance along the second axis:\")\n",
    "print(variance_values)"
   ]
  },
  {
   "cell_type": "code",
   "execution_count": null,
   "id": "7a2c76a2",
   "metadata": {},
   "outputs": [],
   "source": []
  },
  {
   "cell_type": "code",
   "execution_count": null,
   "id": "903590a8",
   "metadata": {},
   "outputs": [],
   "source": []
  }
 ],
 "metadata": {
  "kernelspec": {
   "display_name": "Python 3 (ipykernel)",
   "language": "python",
   "name": "python3"
  },
  "language_info": {
   "codemirror_mode": {
    "name": "ipython",
    "version": 3
   },
   "file_extension": ".py",
   "mimetype": "text/x-python",
   "name": "python",
   "nbconvert_exporter": "python",
   "pygments_lexer": "ipython3",
   "version": "3.11.5"
  }
 },
 "nbformat": 4,
 "nbformat_minor": 5
}
