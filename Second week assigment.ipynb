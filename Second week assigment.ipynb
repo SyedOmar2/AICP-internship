{
 "cells": [
  {
   "cell_type": "markdown",
   "id": "9bbb55ea",
   "metadata": {},
   "source": [
    "#### Writer pandas series code to get following output without using dictionary:\n"
   ]
  },
  {
   "cell_type": "code",
   "execution_count": 4,
   "id": "5060ad35",
   "metadata": {},
   "outputs": [],
   "source": [
    "import pandas as pd"
   ]
  },
  {
   "cell_type": "code",
   "execution_count": 8,
   "id": "fd0368e4",
   "metadata": {},
   "outputs": [
    {
     "name": "stdout",
     "output_type": "stream",
     "text": [
      "a    1\n",
      "x    4\n",
      "c    9\n",
      "2    6\n",
      "e    7\n",
      "dtype: int64\n"
     ]
    }
   ],
   "source": [
    "data = [1,4,9,6,7]\n",
    "dic = pd.Series(data,index=['a','x','c',2,'e'])\n",
    "print(dic)"
   ]
  },
  {
   "cell_type": "markdown",
   "id": "8714d902",
   "metadata": {},
   "source": [
    "#### Writer pandas series code to get following output using dictionary:"
   ]
  },
  {
   "cell_type": "code",
   "execution_count": 10,
   "id": "fcabbb79",
   "metadata": {},
   "outputs": [
    {
     "name": "stdout",
     "output_type": "stream",
     "text": [
      "{'Bilal': 42, 'Ayesha': 38, 'Hadia': 39}\n"
     ]
    }
   ],
   "source": [
    "dic = {\n",
    "    \"Bilal\":42,\n",
    "    \"Ayesha\":38,\n",
    "    \"Hadia\":39\n",
    "}\n",
    "print(dic)"
   ]
  },
  {
   "cell_type": "markdown",
   "id": "a32c1149",
   "metadata": {},
   "source": [
    "#### Write pandas dataframe code to get following output using python dictionary"
   ]
  },
  {
   "cell_type": "code",
   "execution_count": 47,
   "id": "eebb59c9",
   "metadata": {},
   "outputs": [],
   "source": [
    "data = {\n",
    "    \"Date\":[\"1/1/2017\",\"1/2/2017\",\"1/3/2017\",\"1/4/2017\",\"1/5/2017\",\"1/6/2017\"],\n",
    "    \"temperature\":[32,35,28,24,32,31],\n",
    "    \"windspeed\":[6,7,2,7,4,2],\n",
    "    \"event\":['Rain','Sunny','Snow','Snow','Rain','Sunny']\n",
    "}\n",
    "data = pd.DataFrame(data)"
   ]
  },
  {
   "cell_type": "code",
   "execution_count": 48,
   "id": "1a205daf",
   "metadata": {},
   "outputs": [
    {
     "name": "stdout",
     "output_type": "stream",
     "text": [
      "       Date  temperature  windspeed  event\n",
      "0  1/1/2017           32          6   Rain\n",
      "1  1/2/2017           35          7  Sunny\n",
      "2  1/3/2017           28          2   Snow\n",
      "3  1/4/2017           24          7   Snow\n",
      "4  1/5/2017           32          4   Rain\n",
      "5  1/6/2017           31          2  Sunny\n"
     ]
    }
   ],
   "source": [
    "print(data)"
   ]
  },
  {
   "cell_type": "markdown",
   "id": "76caacf0",
   "metadata": {},
   "source": [
    "#### In extension to above question, you are required to replace index by ['a','b','c','d','e','f'] "
   ]
  },
  {
   "cell_type": "code",
   "execution_count": 49,
   "id": "210d872d",
   "metadata": {},
   "outputs": [],
   "source": [
    "data.index = ['a','b','c','d','e','f']"
   ]
  },
  {
   "cell_type": "code",
   "execution_count": 29,
   "id": "219b05be",
   "metadata": {},
   "outputs": [
    {
     "name": "stdout",
     "output_type": "stream",
     "text": [
      "       Date  temperature  windspeed  event\n",
      "a  1/1/2017           32          6   Rain\n",
      "b  1/2/2017           35          7  Sunny\n",
      "c  1/3/2017           28          2   Snow\n",
      "d  1/4/2017           24          7   Snow\n",
      "e  1/5/2017           32          4   Rain\n",
      "f  1/6/2017           31          2  Sunny\n"
     ]
    }
   ],
   "source": [
    "print(data)"
   ]
  },
  {
   "cell_type": "markdown",
   "id": "09898570",
   "metadata": {},
   "source": [
    "####  In extension to above Q.3, calculate mean, miximum and minimum for label “temperature” "
   ]
  },
  {
   "cell_type": "code",
   "execution_count": 50,
   "id": "6d8f8e79",
   "metadata": {},
   "outputs": [
    {
     "name": "stdout",
     "output_type": "stream",
     "text": [
      "Mean:  30.333333333333332\n",
      "Max:  35\n",
      "Min:  24\n"
     ]
    }
   ],
   "source": [
    "temp_mean = data.temperature.mean()\n",
    "temp_max = data.temperature.max()\n",
    "temp_min = data.temperature.min()\n",
    "print(\"Mean: \",temp_mean)\n",
    "print(\"Max: \",temp_max)\n",
    "print(\"Min: \",temp_min)"
   ]
  },
  {
   "cell_type": "markdown",
   "id": "0a9d45c1",
   "metadata": {},
   "source": [
    "#### Import CSV ‘people.csv’ in the given folder"
   ]
  },
  {
   "cell_type": "code",
   "execution_count": 54,
   "id": "5f08034b",
   "metadata": {},
   "outputs": [],
   "source": [
    "data2 = pd.read_csv('people.csv')"
   ]
  },
  {
   "cell_type": "markdown",
   "id": "9ef2e141",
   "metadata": {},
   "source": [
    "#### You’re required to import only specific columns [\"First Name\", \"Sex\", \"Email\", “Phone”, “Job Title”]\n"
   ]
  },
  {
   "cell_type": "code",
   "execution_count": 57,
   "id": "20cc70de",
   "metadata": {},
   "outputs": [],
   "source": [
    "data2 = pd.read_csv('people.csv', usecols= [\"First Name\", \"Sex\", \"Email\", \"Phone\", \"Job Title\"])"
   ]
  },
  {
   "cell_type": "markdown",
   "id": "717c3075",
   "metadata": {},
   "source": [
    "#### Set the following columns [\"Sex\", \"Job Title\"] as index columns"
   ]
  },
  {
   "cell_type": "code",
   "execution_count": 58,
   "id": "4fd95895",
   "metadata": {},
   "outputs": [],
   "source": [
    "data2.set_index([\"Sex\", \"Job Title\"],inplace=True)"
   ]
  },
  {
   "cell_type": "markdown",
   "id": "1e6256ae",
   "metadata": {},
   "source": [
    "#### Skip following rows [1,5]"
   ]
  },
  {
   "cell_type": "code",
   "execution_count": 59,
   "id": "ee1d6667",
   "metadata": {},
   "outputs": [],
   "source": [
    "data2 = pd.read_csv('people.csv',usecols = [\"First Name\", \"Sex\", \"Email\", \"Phone\", \"Job Title\"], skiprows=[1,5])"
   ]
  },
  {
   "cell_type": "markdown",
   "id": "21cd6252",
   "metadata": {},
   "source": [
    "#### Export the CSV as “NewPeople.csv”"
   ]
  },
  {
   "cell_type": "code",
   "execution_count": 60,
   "id": "af987129",
   "metadata": {},
   "outputs": [],
   "source": [
    "data2.to_csv('newpeople.csv')"
   ]
  },
  {
   "cell_type": "markdown",
   "id": "aac11987",
   "metadata": {},
   "source": [
    "#### Import excel sheet ‘SampleWork.xlsx"
   ]
  },
  {
   "cell_type": "code",
   "execution_count": 68,
   "id": "5f7d3e6c",
   "metadata": {},
   "outputs": [],
   "source": [
    "data3 = pd.read_excel('SampleWork.xlsx')"
   ]
  },
  {
   "cell_type": "markdown",
   "id": "bd9456a8",
   "metadata": {},
   "source": [
    "#### Import sheet 1"
   ]
  },
  {
   "cell_type": "code",
   "execution_count": 69,
   "id": "ac313580",
   "metadata": {},
   "outputs": [],
   "source": [
    "data3 = pd.read_excel('SampleWork.xlsx', sheet_name=0)"
   ]
  },
  {
   "cell_type": "markdown",
   "id": "b6ddf02a",
   "metadata": {},
   "source": [
    "#### Import only first and last column from sheet 1"
   ]
  },
  {
   "cell_type": "code",
   "execution_count": 71,
   "id": "94475d5f",
   "metadata": {},
   "outputs": [
    {
     "name": "stdout",
     "output_type": "stream",
     "text": [
      "     Name\n",
      "0    Amir\n",
      "1   Bilal\n",
      "2  Sufyan\n",
      "3   Saiqa\n",
      "4   Aimen\n"
     ]
    }
   ],
   "source": [
    "data3 = pd.read_excel('SampleWork.xlsx', usecols=[0,-1])\n",
    "print(data3)"
   ]
  },
  {
   "cell_type": "markdown",
   "id": "b9ec22b8",
   "metadata": {},
   "source": [
    "#### Skip row 2 while importing the sheet"
   ]
  },
  {
   "cell_type": "code",
   "execution_count": 111,
   "id": "cfe35e3d",
   "metadata": {},
   "outputs": [
    {
     "name": "stdout",
     "output_type": "stream",
     "text": [
      "     Name  Age   Stream  Percentage\n",
      "0    Amir   18     Math          95\n",
      "1  Sufyan   20  Comerce          85\n",
      "2   Saiqa   18     Math          80\n",
      "3   Aimen   32  Science          75\n"
     ]
    }
   ],
   "source": [
    "data3 = pd.read_excel('SampleWork.xlsx', sheet_name=0, skiprows=[2])\n",
    "print(data3)"
   ]
  },
  {
   "cell_type": "markdown",
   "id": "c210a89b",
   "metadata": {},
   "source": [
    "#### Set row 2 as header"
   ]
  },
  {
   "cell_type": "code",
   "execution_count": 113,
   "id": "df6e1c9e",
   "metadata": {},
   "outputs": [
    {
     "name": "stdout",
     "output_type": "stream",
     "text": [
      "     Amir  18     Math  95\n",
      "0   Bilal  19  Science  90\n",
      "1  Sufyan  20  Comerce  85\n",
      "2   Saiqa  18     Math  80\n",
      "3   Aimen  32  Science  75\n"
     ]
    }
   ],
   "source": [
    "data3 = pd.read_excel('SampleWork.xlsx', header=1)\n",
    "print(data3)"
   ]
  },
  {
   "cell_type": "markdown",
   "id": "5ef2ac46",
   "metadata": {},
   "source": [
    "#### export as new sheet."
   ]
  },
  {
   "cell_type": "code",
   "execution_count": 114,
   "id": "190f58c6",
   "metadata": {},
   "outputs": [],
   "source": [
    "data3.to_excel('new_samplework.xlsx')"
   ]
  },
  {
   "cell_type": "markdown",
   "id": "a360a862",
   "metadata": {},
   "source": [
    "#### : Create the following dataframe as AICP_DF"
   ]
  },
  {
   "cell_type": "code",
   "execution_count": 128,
   "id": "e7101197",
   "metadata": {},
   "outputs": [],
   "source": [
    "AICP_DF = {\n",
    "    \"Name\":[\"Sonia\",\"Bilal\",\"Hifza\",\"Kabir\",\"Jazim\"],\n",
    "    \"Age\":[27,24,22,32,23],\n",
    "    \"Address\":[\"Lahore\",\"Karachi\",\"Sialkot\",\"Peshawar\",\"Lhr\"],\n",
    "    \"Qualification\":[\"Msc\",\"MA\",\"MCA\",\"Phd\",\"bsc\"]\n",
    "}\n",
    "AICP_DF = pd.DataFrame(AICP_DF)"
   ]
  },
  {
   "cell_type": "markdown",
   "id": "6645a22d",
   "metadata": {},
   "source": [
    "#### select 'Name', 'Qualification' coloumns and save to df1"
   ]
  },
  {
   "cell_type": "code",
   "execution_count": 129,
   "id": "edf53404",
   "metadata": {},
   "outputs": [],
   "source": [
    "df1 = AICP_DF[[\"Name\",\"Qualification\"]]"
   ]
  },
  {
   "cell_type": "markdown",
   "id": "e7ef0ae0",
   "metadata": {},
   "source": [
    "#### add a new column to AICP_DF “Height” with the following values: [5.1, 6.2, 5.1, 5.2,5.1]"
   ]
  },
  {
   "cell_type": "code",
   "execution_count": 130,
   "id": "99f82cba",
   "metadata": {},
   "outputs": [],
   "source": [
    "AICP_DF[\"Height\"] = [5.1, 6.2, 5.1, 5.2,5.1]"
   ]
  },
  {
   "cell_type": "markdown",
   "id": "1d914eb5",
   "metadata": {},
   "source": [
    "#### set column “Name” as the index column."
   ]
  },
  {
   "cell_type": "code",
   "execution_count": 131,
   "id": "0b3a3022",
   "metadata": {},
   "outputs": [],
   "source": [
    "AICP_DF.set_index('Name',inplace=True)"
   ]
  },
  {
   "cell_type": "markdown",
   "id": "8d95adf7",
   "metadata": {},
   "source": [
    "#### retrieve row with index “Hifza”\n"
   ]
  },
  {
   "cell_type": "code",
   "execution_count": 145,
   "id": "e3942ca4",
   "metadata": {},
   "outputs": [
    {
     "name": "stdout",
     "output_type": "stream",
     "text": [
      "Age                   22\n",
      "Address          Sialkot\n",
      "Qualification        MCA\n",
      "Height               5.1\n",
      "Name: Hifza, dtype: object\n"
     ]
    }
   ],
   "source": [
    "Hifza = AICP_DF.loc['Hifza']\n",
    "print(Hifza)"
   ]
  },
  {
   "cell_type": "markdown",
   "id": "268e46db",
   "metadata": {},
   "source": [
    "#### retrieve row with index 3"
   ]
  },
  {
   "cell_type": "code",
   "execution_count": 147,
   "id": "e0d02f7f",
   "metadata": {},
   "outputs": [
    {
     "name": "stdout",
     "output_type": "stream",
     "text": [
      "Age                    32\n",
      "Address          Peshawar\n",
      "Qualification         Phd\n",
      "Height                5.2\n",
      "Name: Kabir, dtype: object\n"
     ]
    }
   ],
   "source": [
    "index3 = AICP_DF.iloc[3]\n",
    "print(index3)"
   ]
  },
  {
   "cell_type": "markdown",
   "id": "b31074a7",
   "metadata": {},
   "source": [
    "#### drop row with index “Bilal”"
   ]
  },
  {
   "cell_type": "code",
   "execution_count": 148,
   "id": "bdceb0ba",
   "metadata": {},
   "outputs": [],
   "source": [
    "AICP_DF.drop(index=\"Bilal\",inplace=True)"
   ]
  },
  {
   "cell_type": "code",
   "execution_count": 149,
   "id": "16787293",
   "metadata": {},
   "outputs": [
    {
     "data": {
      "text/html": [
       "<div>\n",
       "<style scoped>\n",
       "    .dataframe tbody tr th:only-of-type {\n",
       "        vertical-align: middle;\n",
       "    }\n",
       "\n",
       "    .dataframe tbody tr th {\n",
       "        vertical-align: top;\n",
       "    }\n",
       "\n",
       "    .dataframe thead th {\n",
       "        text-align: right;\n",
       "    }\n",
       "</style>\n",
       "<table border=\"1\" class=\"dataframe\">\n",
       "  <thead>\n",
       "    <tr style=\"text-align: right;\">\n",
       "      <th></th>\n",
       "      <th>Age</th>\n",
       "      <th>Address</th>\n",
       "      <th>Qualification</th>\n",
       "      <th>Height</th>\n",
       "    </tr>\n",
       "    <tr>\n",
       "      <th>Name</th>\n",
       "      <th></th>\n",
       "      <th></th>\n",
       "      <th></th>\n",
       "      <th></th>\n",
       "    </tr>\n",
       "  </thead>\n",
       "  <tbody>\n",
       "    <tr>\n",
       "      <th>Sonia</th>\n",
       "      <td>27</td>\n",
       "      <td>Lahore</td>\n",
       "      <td>Msc</td>\n",
       "      <td>5.1</td>\n",
       "    </tr>\n",
       "    <tr>\n",
       "      <th>Hifza</th>\n",
       "      <td>22</td>\n",
       "      <td>Sialkot</td>\n",
       "      <td>MCA</td>\n",
       "      <td>5.1</td>\n",
       "    </tr>\n",
       "    <tr>\n",
       "      <th>Kabir</th>\n",
       "      <td>32</td>\n",
       "      <td>Peshawar</td>\n",
       "      <td>Phd</td>\n",
       "      <td>5.2</td>\n",
       "    </tr>\n",
       "    <tr>\n",
       "      <th>Jazim</th>\n",
       "      <td>23</td>\n",
       "      <td>Lhr</td>\n",
       "      <td>bsc</td>\n",
       "      <td>5.1</td>\n",
       "    </tr>\n",
       "  </tbody>\n",
       "</table>\n",
       "</div>"
      ],
      "text/plain": [
       "       Age   Address Qualification  Height\n",
       "Name                                      \n",
       "Sonia   27    Lahore           Msc     5.1\n",
       "Hifza   22   Sialkot           MCA     5.1\n",
       "Kabir   32  Peshawar           Phd     5.2\n",
       "Jazim   23       Lhr           bsc     5.1"
      ]
     },
     "execution_count": 149,
     "metadata": {},
     "output_type": "execute_result"
    }
   ],
   "source": [
    "AICP_DF"
   ]
  },
  {
   "cell_type": "code",
   "execution_count": null,
   "id": "45aad75f",
   "metadata": {},
   "outputs": [],
   "source": []
  }
 ],
 "metadata": {
  "kernelspec": {
   "display_name": "Python 3 (ipykernel)",
   "language": "python",
   "name": "python3"
  },
  "language_info": {
   "codemirror_mode": {
    "name": "ipython",
    "version": 3
   },
   "file_extension": ".py",
   "mimetype": "text/x-python",
   "name": "python",
   "nbconvert_exporter": "python",
   "pygments_lexer": "ipython3",
   "version": "3.11.5"
  }
 },
 "nbformat": 4,
 "nbformat_minor": 5
}
